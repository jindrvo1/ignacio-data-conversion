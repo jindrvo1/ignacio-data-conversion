{
 "cells": [
  {
   "cell_type": "code",
   "execution_count": null,
   "metadata": {},
   "outputs": [],
   "source": [
    "import os\n",
    "import re\n",
    "from datetime import datetime\n",
    "\n",
    "import pandas as pd\n",
    "\n",
    "pd.options.display.max_columns = None"
   ]
  },
  {
   "cell_type": "code",
   "execution_count": null,
   "metadata": {},
   "outputs": [],
   "source": [
    "DATA_FOLDER = 'data'\n",
    "\n",
    "INPUT_FILE_NAME = 'rules s1 a 5 mayo 24 excel.xlsx'\n",
    "OUTPUT_FILE_NAME = 'acumulado_Campo_S1.csv'\n",
    "NEW_OUTPUT_FILE_NAME = 'res.csv'\n",
    "\n",
    "INPUT_FILE_PATH = os.path.join(DATA_FOLDER, INPUT_FILE_NAME)\n",
    "OUTPUT_FILE_PATH = os.path.join(DATA_FOLDER, OUTPUT_FILE_NAME)\n",
    "NEW_OUTPUT_FILE_PATH = os.path.join(DATA_FOLDER, NEW_OUTPUT_FILE_NAME)"
   ]
  },
  {
   "cell_type": "code",
   "execution_count": null,
   "metadata": {},
   "outputs": [],
   "source": [
    "# Skip the first 3 rows as they only contain description and\n",
    "# don't fit the structure of the rest of the file\n",
    "df = pd.read_excel(INPUT_FILE_PATH, skiprows=3, decimal=',')\n",
    "\n",
    "# Set the depth as the index of the dataframe for easier manipulation\n",
    "df = df.rename(columns={'Depth (m)': 'Depth'}).set_index('Depth')\n",
    "\n",
    "# Remove the second depth column as it's a duplicate and all empty columns\n",
    "df = df.drop(columns=['Depth (m).1'] + df.filter(regex='Unnamed').columns.tolist())"
   ]
  },
  {
   "cell_type": "code",
   "execution_count": null,
   "metadata": {},
   "outputs": [],
   "source": [
    "# Split the dataframe into two separate dataframes\n",
    "# Asserts are used to make sure that the split is correct\n",
    "n_columns = df.shape[1]\n",
    "\n",
    "assert n_columns % 2 == 0, f'Number of columns is not even: {n_columns}'\n",
    "\n",
    "df_A = df.iloc[:, :n_columns // 2]\n",
    "df_B = df.iloc[:, n_columns // 2:]\n",
    "\n",
    "assert df_A.shape == df_B.shape, 'Dataframes do not have the same shape'\n",
    "assert df.index.equals(df_A.index), 'Indexes do not match'"
   ]
  },
  {
   "cell_type": "code",
   "execution_count": null,
   "metadata": {},
   "outputs": [],
   "source": [
    "# A decorator that converts the returned date to a string\n",
    "def date_to_string(fun: callable) -> callable:\n",
    "    def wrapper(date: str | datetime) -> str:\n",
    "        date = fun(date)\n",
    "        if pd.isnull(date):\n",
    "            return ''\n",
    "\n",
    "        return date.strftime('%d/%m/%Y')\n",
    "\n",
    "    return wrapper\n",
    "\n",
    "\n",
    "@date_to_string\n",
    "def process_date(date: str | datetime) -> pd.Timestamp:\n",
    "    if isinstance(date, datetime):\n",
    "        # The dates are wrongly read because of Excel's date formatting\n",
    "        # so we swap the month and the day positions\n",
    "        date_str = date.strftime('%m/%d/%Y')\n",
    "        return pd.to_datetime(date_str, format='%d/%m/%Y')\n",
    "\n",
    "    if isinstance(date, str):\n",
    "        if (match := re.search(r'(\\d+)/\\d+/(\\d+).*', date)):\n",
    "            # Determine whether the format is dd/mm/yyyy or yyyy/mm/dd\n",
    "            if len(match.group(1)) == 4:\n",
    "                return pd.to_datetime(date, format='%Y/%m/%d', exact=False)\n",
    "\n",
    "            if len(match.group(2)) == 4:\n",
    "                return pd.to_datetime(date, format='%d/%m/%Y', exact=False)\n",
    "\n",
    "    return pd.to_datetime(errors='coerce')"
   ]
  },
  {
   "cell_type": "code",
   "execution_count": null,
   "metadata": {},
   "outputs": [],
   "source": [
    "df_res = pd.DataFrame(index=df.index)\n",
    "\n",
    "for depth in df.index:\n",
    "    for nth_col in range(n_columns // 2):\n",
    "        # Take the nth column of the first dataframe and the nth column of the second dataframe\n",
    "        # and put them into the resulting dataframe at the same depth.\n",
    "        df_res.loc[depth, f'A{nth_col}'] = df_A.loc[depth].iloc[nth_col]\n",
    "        df_res.loc[depth, f'B{nth_col}'] = df_B.loc[depth].iloc[nth_col]\n",
    "\n",
    "        # The Excel outputted the dates in two different formats so this is a hack to unify it\n",
    "        df_res.loc[depth, f'Date{nth_col}'] = process_date(df_A.columns[nth_col])"
   ]
  },
  {
   "cell_type": "code",
   "execution_count": null,
   "metadata": {},
   "outputs": [],
   "source": [
    "# Check that all columns are the same as in the test data\n",
    "\n",
    "df_test = pd.read_csv(OUTPUT_FILE_PATH, sep=';', decimal=',')\n",
    "df_test = df_test.set_index('Depth')\n",
    "\n",
    "for col in df_res.filter(regex='A|B\\d+').columns:\n",
    "    assert df_res[col].equals(df_test[col].astype('float64')), f'Columns do not match: {col}'"
   ]
  },
  {
   "cell_type": "code",
   "execution_count": null,
   "metadata": {},
   "outputs": [],
   "source": [
    "df_res.to_csv(NEW_OUTPUT_FILE_PATH, sep=';', decimal=',', index=True)"
   ]
  }
 ],
 "metadata": {
  "kernelspec": {
   "display_name": ".venv",
   "language": "python",
   "name": "python3"
  },
  "language_info": {
   "codemirror_mode": {
    "name": "ipython",
    "version": 3
   },
   "file_extension": ".py",
   "mimetype": "text/x-python",
   "name": "python",
   "nbconvert_exporter": "python",
   "pygments_lexer": "ipython3",
   "version": "3.11.6"
  }
 },
 "nbformat": 4,
 "nbformat_minor": 2
}
